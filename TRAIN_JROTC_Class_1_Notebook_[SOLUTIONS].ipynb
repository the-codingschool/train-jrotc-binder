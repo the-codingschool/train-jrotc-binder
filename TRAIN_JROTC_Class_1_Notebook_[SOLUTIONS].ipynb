{
  "nbformat": 4,
  "nbformat_minor": 0,
  "metadata": {
    "colab": {
      "provenance": [],
      "collapsed_sections": [
        "ER5diAO04OKl",
        "xDExtd3MDAgc"
      ]
    },
    "kernelspec": {
      "name": "python3",
      "display_name": "Python 3"
    },
    "language_info": {
      "name": "python"
    }
  },
  "cells": [
    {
      "cell_type": "markdown",
      "source": [
        "# **Day 1: Programming Basics**\n",
        "---\n",
        "\n",
        "### **Description**\n",
        "In this lab, we will familiarize ourselves with Google Colab.\n",
        "\n",
        "<br>\n",
        "\n",
        "### **Structure**\n",
        "**Part 1**: [Getting Familiar with Google Colab](#p1)\n",
        "\n",
        "**Part 2**: [Reading and Modifying Code](#p2)\n",
        "\n",
        "**Part 3**: [Independent Practice](#p3)\n",
        "\n",
        "\n",
        "\n",
        "<br>\n",
        "\n",
        "### **Learning Objectives**\n",
        "By the end of this lab, we will:\n",
        "* Recognize how to use Google Colab to write and execute code.\n",
        "\n"
      ],
      "metadata": {
        "id": "K3JVwUgVElwe"
      }
    },
    {
      "cell_type": "markdown",
      "source": [
        "<a name=\"p1\"></a>\n",
        "\n",
        "---\n",
        "##**Part 1: Getting Familiar with Google Colab**\n",
        "---"
      ],
      "metadata": {
        "id": "vFusVI8O6sd-"
      }
    },
    {
      "cell_type": "markdown",
      "source": [
        "#### **Problem #1.1**\n",
        "\n",
        "**Together**, let's change the title of our notebook. Rename the notebook to \"My TRAIN Week 1 Lab Notebook\"."
      ],
      "metadata": {
        "id": "4EgRMGgY7J-X"
      }
    },
    {
      "cell_type": "markdown",
      "source": [
        "#### **Problem #1.2**\n",
        "\n",
        "**Together**, let's create a new text cell and type: \"This is a text cell.\""
      ],
      "metadata": {
        "id": "1977NXTR78g_"
      }
    },
    {
      "cell_type": "markdown",
      "source": [
        "#####**Solution**"
      ],
      "metadata": {
        "id": "Sn5qKRMjNgGB"
      }
    },
    {
      "cell_type": "markdown",
      "source": [
        "This is a text cell."
      ],
      "metadata": {
        "id": "17py-qHaVr_s"
      }
    },
    {
      "cell_type": "markdown",
      "source": [
        "#### **Problem #1.3**\n",
        "\n",
        "**Together**, let's create a new code cell and type: \"This is a code cell.\""
      ],
      "metadata": {
        "id": "7EcHRNJt8QaH"
      }
    },
    {
      "cell_type": "markdown",
      "source": [
        "#####**Solution**"
      ],
      "metadata": {
        "id": "7nzkV2TTNeZ9"
      }
    },
    {
      "cell_type": "code",
      "source": [
        "This is a code cell"
      ],
      "metadata": {
        "id": "lrvZ1FPFV48K"
      },
      "execution_count": null,
      "outputs": []
    },
    {
      "cell_type": "markdown",
      "source": [
        "#### **Problem #1.4**\n",
        "\n",
        "**Together**, let's run the code cell below."
      ],
      "metadata": {
        "id": "Lgm13Kns8Vzi"
      }
    },
    {
      "cell_type": "code",
      "source": [
        "\"Hello World!\""
      ],
      "metadata": {
        "id": "se-uUU8bE-Gn"
      },
      "execution_count": null,
      "outputs": []
    },
    {
      "cell_type": "markdown",
      "source": [
        "<a name=\"p2\"></a>\n",
        "\n",
        "---\n",
        "##**Part 2: Reading and Modifying Code**\n",
        "---"
      ],
      "metadata": {
        "id": "VeQYlCX4wJ3z"
      }
    },
    {
      "cell_type": "markdown",
      "source": [
        "#### **Problem #2.1**\n",
        "\n",
        "**Together**, let's modify the value of the `color` variable so that it prints: \"My favorite color is green\""
      ],
      "metadata": {
        "id": "-tQi-Wr84P0Z"
      }
    },
    {
      "cell_type": "code",
      "source": [
        "color = 'pink'\n",
        "\n",
        "print(\"My favorite color is\", color)"
      ],
      "metadata": {
        "colab": {
          "base_uri": "https://localhost:8080/"
        },
        "outputId": "4b7a9cb6-daca-40dc-b61b-46937c3972fb",
        "id": "BkJ4lcps4P0a"
      },
      "execution_count": null,
      "outputs": [
        {
          "output_type": "stream",
          "name": "stdout",
          "text": [
            "My favorite color is pink\n"
          ]
        }
      ]
    },
    {
      "cell_type": "markdown",
      "source": [
        "#####**Solution**"
      ],
      "metadata": {
        "id": "_K0Rb2224P0b"
      }
    },
    {
      "cell_type": "code",
      "source": [
        "color = 'green'\n",
        "\n",
        "print(\"My favorite color is\", color)"
      ],
      "metadata": {
        "id": "hbNdQYpk4P0b"
      },
      "execution_count": null,
      "outputs": []
    },
    {
      "cell_type": "markdown",
      "source": [
        "#### **Problem #2.2**\n",
        "\n",
        "**Together**, let's modify the code below to calculate the circumference of a circle with a radius of 10."
      ],
      "metadata": {
        "id": "dtWu62M4wJ4A"
      }
    },
    {
      "cell_type": "code",
      "source": [
        "radius = 7\n",
        "circumference = 2 * 3.14 * radius\n",
        "print(circumference)"
      ],
      "metadata": {
        "colab": {
          "base_uri": "https://localhost:8080/"
        },
        "id": "_VDZteP43Ahk",
        "outputId": "1b5aae63-c7b5-445d-d534-8afb722f205e"
      },
      "execution_count": null,
      "outputs": [
        {
          "output_type": "stream",
          "name": "stdout",
          "text": [
            "43.96\n"
          ]
        }
      ]
    },
    {
      "cell_type": "markdown",
      "source": [
        "#####**Solution**"
      ],
      "metadata": {
        "id": "UlbNqQod3Sou"
      }
    },
    {
      "cell_type": "code",
      "source": [
        "radius = 10\n",
        "circumference = 2 * 3.14 * radius\n",
        "print(circumference)"
      ],
      "metadata": {
        "id": "P0T9mNqh3UTC"
      },
      "execution_count": null,
      "outputs": []
    },
    {
      "cell_type": "markdown",
      "source": [
        "#### **Problem #2.3**\n",
        "\n",
        "**Together**, let's modify the `name` variable so that it stores our name."
      ],
      "metadata": {
        "id": "ER5diAO04OKl"
      }
    },
    {
      "cell_type": "code",
      "source": [
        "name = 'Angelique'\n",
        "print(\"My name is \" + name)"
      ],
      "metadata": {
        "colab": {
          "base_uri": "https://localhost:8080/"
        },
        "outputId": "7c3d8931-9d67-43a6-cf5f-22de233151d1",
        "id": "SbFaL4wM4OKx"
      },
      "execution_count": null,
      "outputs": [
        {
          "output_type": "stream",
          "name": "stdout",
          "text": [
            "My name is Angelique\n"
          ]
        }
      ]
    },
    {
      "cell_type": "markdown",
      "source": [
        "#####**Solution**"
      ],
      "metadata": {
        "id": "RPLSb0ps4OKy"
      }
    },
    {
      "cell_type": "code",
      "source": [
        "name = 'Angelique'\n",
        "print(\"My name is \" + name)"
      ],
      "metadata": {
        "id": "KyNDq_074OKz"
      },
      "execution_count": null,
      "outputs": []
    },
    {
      "cell_type": "markdown",
      "source": [
        "#### **Problem #2.4**\n",
        "\n",
        "In Python, we can comment out lines of code by using the hash symbol (`#`) at the beginning of the line. This means that line of code is skipped during execution.\n",
        "\n",
        "**Together**, let's modify the code below so that only `7` is outputted."
      ],
      "metadata": {
        "id": "xDExtd3MDAgc"
      }
    },
    {
      "cell_type": "code",
      "source": [
        "print(5)\n",
        "print(10)\n",
        "print(7)\n",
        "print(13)"
      ],
      "metadata": {
        "id": "3BAqoMKUDegQ"
      },
      "execution_count": null,
      "outputs": []
    },
    {
      "cell_type": "markdown",
      "source": [
        "#####**Solution**"
      ],
      "metadata": {
        "id": "k0oIK3swDAgd"
      }
    },
    {
      "cell_type": "code",
      "source": [
        "#print(5)\n",
        "#print(10)\n",
        "print(7)\n",
        "#print(13)"
      ],
      "metadata": {
        "id": "I2dxKWBsDAgd"
      },
      "execution_count": null,
      "outputs": []
    },
    {
      "cell_type": "markdown",
      "source": [
        "---\n",
        "\n",
        "#### **Now it's your turn! Try Problems #2.5 - 2.7 on your own.**\n",
        "\n",
        "---"
      ],
      "metadata": {
        "id": "i4KrGzf_5U8p"
      }
    },
    {
      "cell_type": "markdown",
      "source": [
        "#### **Problem #2.5**\n",
        "\n",
        "**Independently**, modify the value of x so that the result becomes 20."
      ],
      "metadata": {
        "id": "qX0JfaFswJ4B"
      }
    },
    {
      "cell_type": "code",
      "source": [
        "x = 10\n",
        "y = 5\n",
        "result = x + y\n",
        "print(result)"
      ],
      "metadata": {
        "id": "CG4Svia5wJ4B"
      },
      "execution_count": null,
      "outputs": []
    },
    {
      "cell_type": "markdown",
      "source": [
        "#####**Solution**"
      ],
      "metadata": {
        "id": "vYVhVgpj3rfp"
      }
    },
    {
      "cell_type": "code",
      "source": [
        "x = 10\n",
        "y = 10\n",
        "result = x + y\n",
        "print(result)"
      ],
      "metadata": {
        "id": "_W6yY0gE3tqp"
      },
      "execution_count": null,
      "outputs": []
    },
    {
      "cell_type": "markdown",
      "source": [
        "#### **Problem #2.6**\n",
        "\n",
        "**Independently**, modify the code below to calculate the area of a triangle with a base of 10 and a height of 12."
      ],
      "metadata": {
        "id": "Tye-OC_E355_"
      }
    },
    {
      "cell_type": "code",
      "source": [
        "base = 16\n",
        "height = 5\n",
        "area_of_triangle = 0.5 * base * height\n",
        "print(area_of_triangle)"
      ],
      "metadata": {
        "id": "VB362cPh356A"
      },
      "execution_count": null,
      "outputs": []
    },
    {
      "cell_type": "markdown",
      "source": [
        "#####**Solution**"
      ],
      "metadata": {
        "id": "KQIWzHrD356A"
      }
    },
    {
      "cell_type": "code",
      "source": [
        "base = 10\n",
        "height = 12\n",
        "area_of_triangle = 0.5 * base * height\n",
        "print(area_of_triangle)"
      ],
      "metadata": {
        "id": "5yCkj0IN356A"
      },
      "execution_count": null,
      "outputs": []
    },
    {
      "cell_type": "markdown",
      "source": [
        "#### **Problem #2.7**\n",
        "\n",
        "You're programming the lighting sequence for a stage show. Each light is controlled by a line of code that \"turns on\" the light.\n",
        "\n",
        "**Independently**, using comments, modify the code below so that only odd numbered lights are turned on."
      ],
      "metadata": {
        "id": "brSSUC7-Dne3"
      }
    },
    {
      "cell_type": "code",
      "source": [
        "print(\"Light 1 is on\")\n",
        "print(\"Light 2 is on\")\n",
        "print(\"Light 3 is on\")\n",
        "print(\"Light 4 is on\")\n",
        "print(\"Light 5 is on\")\n",
        "print(\"Light 6 is on\")\n",
        "print(\"Light 7 is on\")\n",
        "print(\"Light 8 is on\")\n",
        "print(\"Light 9 is on\")\n",
        "print(\"Light 10 is on\")"
      ],
      "metadata": {
        "id": "pCJczqg4Dne4"
      },
      "execution_count": null,
      "outputs": []
    },
    {
      "cell_type": "markdown",
      "source": [
        "#####**Solution**"
      ],
      "metadata": {
        "id": "nKv5auT3Dne4"
      }
    },
    {
      "cell_type": "code",
      "source": [
        "print(\"Light 1 is on\")\n",
        "#print(\"Light 2 is on\")\n",
        "print(\"Light 3 is on\")\n",
        "#print(\"Light 4 is on\")\n",
        "print(\"Light 5 is on\")\n",
        "#print(\"Light 6 is on\")\n",
        "print(\"Light 7 is on\")\n",
        "#print(\"Light 8 is on\")\n",
        "print(\"Light 9 is on\")\n",
        "#print(\"Light 10 is on\")"
      ],
      "metadata": {
        "id": "XMBL4NjcDne4"
      },
      "execution_count": null,
      "outputs": []
    },
    {
      "cell_type": "markdown",
      "source": [
        "<a name=\"p3\"></a>\n",
        "\n",
        "---\n",
        "##**Part 3: Independent Practice**\n",
        "---"
      ],
      "metadata": {
        "id": "XiucWvoDt3Yi"
      }
    },
    {
      "cell_type": "markdown",
      "source": [
        "#### **Problem #3.1**\n",
        "\n",
        "Modify the value of x so that the final output is 15."
      ],
      "metadata": {
        "id": "1Xni1H3Ut3Ys"
      }
    },
    {
      "cell_type": "code",
      "source": [
        "x = 7\n",
        "y = 3\n",
        "result = x + y\n",
        "print(result)"
      ],
      "metadata": {
        "id": "Wkly4_uOuI5j"
      },
      "execution_count": null,
      "outputs": []
    },
    {
      "cell_type": "markdown",
      "source": [
        "#####**Solution**"
      ],
      "metadata": {
        "id": "ZhrX9pGTt3Yt"
      }
    },
    {
      "cell_type": "code",
      "source": [
        "x = 12\n",
        "y = 3\n",
        "result = x + y\n",
        "print(result)"
      ],
      "metadata": {
        "id": "dT3zx9j2t3Yt"
      },
      "execution_count": null,
      "outputs": []
    },
    {
      "cell_type": "markdown",
      "source": [
        "#### **Problem #3.2**\n",
        "\n",
        "Change the operation to make the result 15."
      ],
      "metadata": {
        "id": "-FWxsRnyt3Yt"
      }
    },
    {
      "cell_type": "code",
      "source": [
        "x = 10\n",
        "y = 5\n",
        "result = x * y\n",
        "print(result)"
      ],
      "metadata": {
        "colab": {
          "base_uri": "https://localhost:8080/"
        },
        "id": "i2-T9UZ3uTJg",
        "outputId": "5c37bf96-39d1-4b14-dae0-adf28966ffc5"
      },
      "execution_count": null,
      "outputs": [
        {
          "output_type": "stream",
          "name": "stdout",
          "text": [
            "50\n"
          ]
        }
      ]
    },
    {
      "cell_type": "markdown",
      "source": [
        "#####**Solution**"
      ],
      "metadata": {
        "id": "C8a2233Wt3Yt"
      }
    },
    {
      "cell_type": "code",
      "source": [
        "x = 10\n",
        "y = 5\n",
        "result = x + y\n",
        "print(result)"
      ],
      "metadata": {
        "colab": {
          "base_uri": "https://localhost:8080/"
        },
        "id": "apQ0kRRht3Yt",
        "outputId": "23a93271-3752-49b7-96f0-bd19494a336a"
      },
      "execution_count": null,
      "outputs": [
        {
          "output_type": "stream",
          "name": "stdout",
          "text": [
            "15\n"
          ]
        }
      ]
    },
    {
      "cell_type": "markdown",
      "source": [
        "#### **Problem #3.3**\n",
        "\n",
        "Modify the values of x and y so that the result is 0."
      ],
      "metadata": {
        "id": "u9nkTfXqt3Yt"
      }
    },
    {
      "cell_type": "code",
      "source": [
        "x = 8\n",
        "y = 5\n",
        "result = x - y\n",
        "print(result)"
      ],
      "metadata": {
        "id": "zNysWaSzubyj"
      },
      "execution_count": null,
      "outputs": []
    },
    {
      "cell_type": "markdown",
      "source": [
        "#####**Solution**"
      ],
      "metadata": {
        "id": "OAEZoEBQt3Yt"
      }
    },
    {
      "cell_type": "code",
      "source": [
        "x = 5\n",
        "y = 5\n",
        "result = x - y\n",
        "print(result)"
      ],
      "metadata": {
        "id": "HI3l7OSHt3Yt"
      },
      "execution_count": null,
      "outputs": []
    },
    {
      "cell_type": "markdown",
      "source": [
        "#### **Problem #3.4**\n",
        "\n",
        "Alter the value of y to make the result 50."
      ],
      "metadata": {
        "id": "4nnozAyTt3Yt"
      }
    },
    {
      "cell_type": "code",
      "source": [
        "x = 10\n",
        "y = 2\n",
        "result = x * y\n",
        "print(result)"
      ],
      "metadata": {
        "id": "joASoq_At3Yt"
      },
      "execution_count": null,
      "outputs": []
    },
    {
      "cell_type": "markdown",
      "source": [
        "#####**Solution**"
      ],
      "metadata": {
        "id": "lSufBSfqt3Yt"
      }
    },
    {
      "cell_type": "code",
      "source": [
        "x = 10\n",
        "y = 5\n",
        "result = x * y\n",
        "print(result)"
      ],
      "metadata": {
        "id": "FjGF-sh4t3Yt"
      },
      "execution_count": null,
      "outputs": []
    },
    {
      "cell_type": "markdown",
      "source": [
        "#### **Problem #3.5**\n",
        "\n",
        "Modify one word to print \"Hello Python\"."
      ],
      "metadata": {
        "id": "INdFdhY1t3Yt"
      }
    },
    {
      "cell_type": "code",
      "source": [
        "text = \"Hello World\"\n",
        "print(text)"
      ],
      "metadata": {
        "id": "UJAytPrct3Yt"
      },
      "execution_count": null,
      "outputs": []
    },
    {
      "cell_type": "markdown",
      "source": [
        "#####**Solution**"
      ],
      "metadata": {
        "id": "S2d0yDpet3Yt"
      }
    },
    {
      "cell_type": "code",
      "source": [
        "text = \"Hello Python\"\n",
        "print(text)"
      ],
      "metadata": {
        "id": "ptlXRT9Wt3Yt"
      },
      "execution_count": null,
      "outputs": []
    },
    {
      "cell_type": "markdown",
      "source": [
        "#### **Problem #3.6**\n",
        "\n",
        "Reassign a new value to x to print 20."
      ],
      "metadata": {
        "id": "uybetZ9st3Yu"
      }
    },
    {
      "cell_type": "code",
      "source": [
        "x = 10\n",
        "print(x)"
      ],
      "metadata": {
        "id": "_IQ2R6P3t3Yu"
      },
      "execution_count": null,
      "outputs": []
    },
    {
      "cell_type": "markdown",
      "source": [
        "#####**Solution**"
      ],
      "metadata": {
        "id": "LsZnlLt8t3Yu"
      }
    },
    {
      "cell_type": "code",
      "source": [
        "x = 20\n",
        "print(x)"
      ],
      "metadata": {
        "id": "EsaIR2w7t3Yu"
      },
      "execution_count": null,
      "outputs": []
    },
    {
      "cell_type": "markdown",
      "source": [
        "#End of notebook\n",
        "---\n",
        "© 2023 The Coding School, All rights reserved"
      ],
      "metadata": {
        "id": "ZjjNOmiT5bPH"
      }
    }
  ]
}